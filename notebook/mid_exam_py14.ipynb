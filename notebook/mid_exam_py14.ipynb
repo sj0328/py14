{
  "nbformat": 4,
  "nbformat_minor": 0,
  "metadata": {
    "colab": {
      "name": "mid_exam_py14.ipynb",
      "provenance": [],
      "collapsed_sections": [],
      "authorship_tag": "ABX9TyMg9mg7G4QidnL2nuZJGM51",
      "include_colab_link": true
    },
    "kernelspec": {
      "name": "python3",
      "display_name": "Python 3"
    }
  },
  "cells": [
    {
      "cell_type": "markdown",
      "metadata": {
        "id": "view-in-github",
        "colab_type": "text"
      },
      "source": [
        "<a href=\"https://colab.research.google.com/github/sj0328/py14/blob/master/notebook/mid_exam_py14.ipynb\" target=\"_parent\"><img src=\"https://colab.research.google.com/assets/colab-badge.svg\" alt=\"Open In Colab\"/></a>"
      ]
    },
    {
      "cell_type": "code",
      "metadata": {
        "id": "JBwlDBro9SNQ",
        "colab_type": "code",
        "colab": {}
      },
      "source": [
        ""
      ],
      "execution_count": null,
      "outputs": []
    },
    {
      "cell_type": "markdown",
      "metadata": {
        "id": "TrQBoIOl9e6d",
        "colab_type": "text"
      },
      "source": [
        "## 파이썬 활용 중간고사 풀이 "
      ]
    },
    {
      "cell_type": "markdown",
      "metadata": {
        "id": "a13TkDG49kt0",
        "colab_type": "text"
      },
      "source": [
        "### 문제 1번. 다음 식의 연산 결과는?\n"
      ]
    },
    {
      "cell_type": "code",
      "metadata": {
        "id": "icZGa1da_sxU",
        "colab_type": "code",
        "colab": {
          "base_uri": "https://localhost:8080/",
          "height": 35
        },
        "outputId": "db347167-fadf-44ee-f503-db7619ac45a6"
      },
      "source": [
        "a = 5\n",
        "b = 3\n",
        "a ** b\n",
        "\n",
        " #**은 제곱을 뜻하기 때문에 125로 출력이 됩니다."
      ],
      "execution_count": null,
      "outputs": [
        {
          "output_type": "execute_result",
          "data": {
            "text/plain": [
              "125"
            ]
          },
          "metadata": {
            "tags": []
          },
          "execution_count": 12
        }
      ]
    },
    {
      "cell_type": "markdown",
      "metadata": {
        "id": "phcICpOBACNj",
        "colab_type": "text"
      },
      "source": [
        "## 문제 2번. 다음 문자열 a에 대하여 슬라이싱을 한 결과는?\n",
        "#### a= \"Life is too short, ou need Pythonl\"\n",
        "#### a[-16:-8]"
      ]
    },
    {
      "cell_type": "code",
      "metadata": {
        "id": "bcU_wYSUA_77",
        "colab_type": "code",
        "colab": {
          "base_uri": "https://localhost:8080/",
          "height": 35
        },
        "outputId": "dadcae20-db77-4eb3-b869-2984caa2d5b9"
      },
      "source": [
        "a = \"Life is too short,you need Python!\"\n",
        "a[-16:-8] \n",
        "\n",
        "# -16은 Y부터를 나타내고 있고, -8은 d까지를 나타내고 있습니다. 그래서 \"You need\"가 결과로 나옵니다."
      ],
      "execution_count": null,
      "outputs": [
        {
          "output_type": "execute_result",
          "data": {
            "text/plain": [
              "'you need'"
            ]
          },
          "metadata": {
            "tags": []
          },
          "execution_count": 13
        }
      ]
    },
    {
      "cell_type": "markdown",
      "metadata": {
        "id": "SUOT4WvYFR9U",
        "colab_type": "text"
      },
      "source": [
        "### 문제 3번. 다음 list a의 인덱싱 결과는?"
      ]
    },
    {
      "cell_type": "code",
      "metadata": {
        "id": "J0DGZSjWClSr",
        "colab_type": "code",
        "colab": {
          "base_uri": "https://localhost:8080/",
          "height": 35
        },
        "outputId": "214a16a6-04ab-4163-e94b-315e1d697275"
      },
      "source": [
        "a = [1,2,(3,4),['a','b',['My','Life','Good']]]\n",
        "a[3][-1][0] \n",
        "\n",
        "# a[3]은 ['a','b',['My','Life','Good']이고, -1은 ['My','Life','Good']입니다. \n",
        "#['My','Life','Good']부분에서 0인 부분은 \"My\"입니다\n"
      ],
      "execution_count": null,
      "outputs": [
        {
          "output_type": "execute_result",
          "data": {
            "text/plain": [
              "'My'"
            ]
          },
          "metadata": {
            "tags": []
          },
          "execution_count": 11
        }
      ]
    },
    {
      "cell_type": "markdown",
      "metadata": {
        "id": "13lMdDNVFdLc",
        "colab_type": "text"
      },
      "source": [
        "### 문제 4번. 다음 tuple t1의 슬라이싱 결과는?"
      ]
    },
    {
      "cell_type": "code",
      "metadata": {
        "id": "IY7nkR-FFjYs",
        "colab_type": "code",
        "colab": {
          "base_uri": "https://localhost:8080/",
          "height": 35
        },
        "outputId": "265a37a6-345a-44f5-adb0-28d680d498e6"
      },
      "source": [
        "t1 = (0,1,\"s\", \"t\", \"u\")\n",
        "t1[2:-2]\n",
        "\n",
        "# tuple을 사용할 때에는 콤마를 붙여 주어야 합니다\n",
        "# 2는 (\"s\")를 뜻하고, -2는 (\"t\")의 뒷부분을 뜻합니다. 그렇기 때문에 ('s',)가 출력됩니다."
      ],
      "execution_count": null,
      "outputs": [
        {
          "output_type": "execute_result",
          "data": {
            "text/plain": [
              "('s',)"
            ]
          },
          "metadata": {
            "tags": []
          },
          "execution_count": 15
        }
      ]
    },
    {
      "cell_type": "markdown",
      "metadata": {
        "id": "z4QUWfeUHQ8D",
        "colab_type": "text"
      },
      "source": [
        "### 문제 5번. 다음 bool 값 출력 중 정확한 것은?"
      ]
    },
    {
      "cell_type": "markdown",
      "metadata": {
        "id": "LPDxWnKacskB",
        "colab_type": "text"
      },
      "source": [
        ""
      ]
    },
    {
      "cell_type": "code",
      "metadata": {
        "id": "aYfwyXAiHWG6",
        "colab_type": "code",
        "colab": {
          "base_uri": "https://localhost:8080/",
          "height": 35
        },
        "outputId": "3e7636e7-304d-4f67-b282-b119c5642bc5"
      },
      "source": [
        "bool([0,1,2]),bool([0]), bool((0)), bool((0,))\n",
        "\n",
        "# 첫번째와 두번째는 []안에 값이 들어있기 때문에 True이고, 세번째는 ()안에 빈 문자열이기 때문에 False이고,\n",
        "# 마지막은 0,가 있어서 빈 문자열이 아니므로 True가 나옵니다.\n"
      ],
      "execution_count": null,
      "outputs": [
        {
          "output_type": "execute_result",
          "data": {
            "text/plain": [
              "(True, True, False, True)"
            ]
          },
          "metadata": {
            "tags": []
          },
          "execution_count": 16
        }
      ]
    },
    {
      "cell_type": "markdown",
      "metadata": {
        "id": "dJQNxNVWP0Tr",
        "colab_type": "text"
      },
      "source": [
        "### 문제 6번. 다음 조건문을 1줄 코드로 변경하시오."
      ]
    },
    {
      "cell_type": "code",
      "metadata": {
        "id": "VzJqcWUEP8bB",
        "colab_type": "code",
        "colab": {}
      },
      "source": [
        "score = 80\n",
        "if score >= 60 :\n",
        "  message = \"success\"\n",
        "else :\n",
        "  message = \"failure\""
      ],
      "execution_count": null,
      "outputs": []
    },
    {
      "cell_type": "code",
      "metadata": {
        "id": "aEZrTxFWccRK",
        "colab_type": "code",
        "colab": {}
      },
      "source": [
        "score = 80\n",
        "massage = \"success\" if score >= else \"failure\""
      ],
      "execution_count": null,
      "outputs": []
    },
    {
      "cell_type": "markdown",
      "metadata": {
        "id": "fo0z74lacWEq",
        "colab_type": "text"
      },
      "source": [
        ""
      ]
    },
    {
      "cell_type": "code",
      "metadata": {
        "id": "gZ9dUy4mP_j5",
        "colab_type": "code",
        "colab": {
          "base_uri": "https://localhost:8080/",
          "height": 136
        },
        "outputId": "85e5988b-e5f4-4800-babe-2530a584c2f4"
      },
      "source": [
        "score = 80\n",
        "massage = \"success\" if score >= else \"failure\""
      ],
      "execution_count": null,
      "outputs": [
        {
          "output_type": "error",
          "ename": "SyntaxError",
          "evalue": "ignored",
          "traceback": [
            "\u001b[0;36m  File \u001b[0;32m\"<ipython-input-37-ac2ede95f7b8>\"\u001b[0;36m, line \u001b[0;32m2\u001b[0m\n\u001b[0;31m    massage = \"success\" if score >= else \"failure\"\u001b[0m\n\u001b[0m                                       ^\u001b[0m\n\u001b[0;31mSyntaxError\u001b[0m\u001b[0;31m:\u001b[0m invalid syntax\n"
          ]
        }
      ]
    },
    {
      "cell_type": "markdown",
      "metadata": {
        "id": "StZw2sYxQQQ5",
        "colab_type": "text"
      },
      "source": [
        "### 문제 7번. 다음 코드의 실행 결과는?\n"
      ]
    },
    {
      "cell_type": "code",
      "metadata": {
        "id": "jTpVtOkrQ1f5",
        "colab_type": "code",
        "colab": {
          "base_uri": "https://localhost:8080/",
          "height": 35
        },
        "outputId": "69d0aee0-66b6-48bf-a771-78306872fdf7"
      },
      "source": [
        "games = [\"A\", \"B\", \"C\"]\n",
        "\n",
        "for cnt in range(len(games)):  # games의 길이를 숫자로 cnt에 대입합니다.\n",
        "    print(cnt, games[cnt], end=',')\n",
        "    # cnt숫자 0부터 2 까지를 출력하는 사이에 \"games\"문자를 넣어주고 \"end\"에는 ','붙여야 합니다"
      ],
      "execution_count": null,
      "outputs": [
        {
          "output_type": "stream",
          "text": [
            "0 A,1 B,2 C,"
          ],
          "name": "stdout"
        }
      ]
    },
    {
      "cell_type": "code",
      "metadata": {
        "id": "BdkYAu5mci3Q",
        "colab_type": "code",
        "colab": {}
      },
      "source": [
        ""
      ],
      "execution_count": null,
      "outputs": []
    },
    {
      "cell_type": "markdown",
      "metadata": {
        "id": "ZfePU3weS-Th",
        "colab_type": "text"
      },
      "source": [
        "### 문제 8번. 다음의 결과가 출력되지 않는 것은?\n",
        "###'I ate 10 apples. so I was sick for three days.'"
      ]
    },
    {
      "cell_type": "code",
      "metadata": {
        "id": "aaIFhjflTDIA",
        "colab_type": "code",
        "colab": {
          "base_uri": "https://localhost:8080/",
          "height": 136
        },
        "outputId": "eb60e70b-20d0-430c-c67b-c8720da1c46b"
      },
      "source": [
        "number = 10\n",
        "day = \"three\"\n",
        "print(\"I ate {0} apples. so I was sick for {1} days.\".format(10,day))\n",
        "print(f\"I ate {number} apples. so I was sick for {day} days.\")\n",
        "print(f\"I ate {number} apples. so I was sick for {'three'} days.\")\n",
        "print(\"I ate {0} apples. so I was sick for {1} days.\".format(number=10,day))"
      ],
      "execution_count": null,
      "outputs": [
        {
          "output_type": "error",
          "ename": "SyntaxError",
          "evalue": "ignored",
          "traceback": [
            "\u001b[0;36m  File \u001b[0;32m\"<ipython-input-23-046979cf0bbd>\"\u001b[0;36m, line \u001b[0;32m6\u001b[0m\n\u001b[0;31m    print(\"I ate {0} apples. so I was sick for {1} days.\".format(number=10,day))\u001b[0m\n\u001b[0m                                                                          ^\u001b[0m\n\u001b[0;31mSyntaxError\u001b[0m\u001b[0;31m:\u001b[0m positional argument follows keyword argument\n"
          ]
        }
      ]
    },
    {
      "cell_type": "markdown",
      "metadata": {
        "id": "X0mCb95YTqk5",
        "colab_type": "text"
      },
      "source": [
        "### 문제 9번. 리스트 내포를 사용해 1부터 1000이하의 자연수 중 5의 배수의 합을 구하는 한줄 코드를 작성하시오"
      ]
    },
    {
      "cell_type": "code",
      "metadata": {
        "id": "2NcaJBXFT2Po",
        "colab_type": "code",
        "colab": {
          "base_uri": "https://localhost:8080/",
          "height": 35
        },
        "outputId": "633ed385-b4de-4656-c030-f8b0ada005ef"
      },
      "source": [
        "sum([num for num in range(1,1001) if num % 5 ==0])\n",
        "# range(1,1001) : 1 부터 1000까지 범위 안이고, num % 5 == 0 : 5로 나눈 나머지가 0이면 5의 배수입니다."
      ],
      "execution_count": null,
      "outputs": [
        {
          "output_type": "execute_result",
          "data": {
            "text/plain": [
              "100500"
            ]
          },
          "metadata": {
            "tags": []
          },
          "execution_count": 25
        }
      ]
    },
    {
      "cell_type": "markdown",
      "metadata": {
        "id": "LEW8CAhBWiBg",
        "colab_type": "text"
      },
      "source": [
        "### 문제 10번. 4개 과목의 평균 성적을 구하시오. [a],[b]에 적합한 코드는?"
      ]
    },
    {
      "cell_type": "code",
      "metadata": {
        "id": "UGjLTeQ2YZ_g",
        "colab_type": "code",
        "colab": {
          "base_uri": "https://localhost:8080/",
          "height": 107
        },
        "outputId": "887e036e-f0fe-42f9-ebe6-d749deac87f6"
      },
      "source": [
        "subjects = ['python', 'english', 'math', 'science']\n",
        "scores = [ 88, 77, 66, 95]\n",
        "total = 0\n",
        "for subject, score in zip(subjects,scores): \n",
        "  total += score\n",
        "  print(subject,score)\n",
        "\n",
        "print(\"평균 점수 = {0}\".format(total/len(subjects)))\n",
        "# total/len(subjects): 총 합계인 total에 len(subjects)를 이용해서 과목 수 만큼 나누어주면 평균이 구해집니다"
      ],
      "execution_count": null,
      "outputs": [
        {
          "output_type": "stream",
          "text": [
            "python 88\n",
            "english 77\n",
            "math 66\n",
            "science 95\n",
            "평균 점수 = 81.5\n"
          ],
          "name": "stdout"
        }
      ]
    },
    {
      "cell_type": "code",
      "metadata": {
        "id": "JlgVdn2kYIw5",
        "colab_type": "code",
        "colab": {}
      },
      "source": [
        ""
      ],
      "execution_count": null,
      "outputs": []
    }
  ]
}